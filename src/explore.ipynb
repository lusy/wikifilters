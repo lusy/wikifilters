{
 "cells": [
  {
   "cell_type": "markdown",
   "metadata": {},
   "source": [
    "# An explorative inquiry into EN Wikipedia's edit filter system\n",
    "\n",
    "This notebook serves to explore EN Wikipedia's edit filters"
   ]
  },
  {
   "cell_type": "code",
   "execution_count": 2,
   "metadata": {},
   "outputs": [],
   "source": [
    "import pandas as pd\n",
    "import itertools\n",
    "import collections"
   ]
  },
  {
   "cell_type": "markdown",
   "metadata": {},
   "source": [
    "We import a cleaned version of manually annotated edit filters:"
   ]
  },
  {
   "cell_type": "code",
   "execution_count": 38,
   "metadata": {},
   "outputs": [],
   "source": [
    " df = pd.read_csv(\"20190106115600_filters-sorted-by-hits-manual-tags.csv\", sep='\\t')"
   ]
  },
  {
   "cell_type": "markdown",
   "metadata": {},
   "source": [
    "## General stats"
   ]
  },
  {
   "cell_type": "code",
   "execution_count": 90,
   "metadata": {},
   "outputs": [
    {
     "data": {
      "text/plain": [
       "954"
      ]
     },
     "execution_count": 90,
     "metadata": {},
     "output_type": "execute_result"
    }
   ],
   "source": [
    "# Number of filters\n",
    "len(df)"
   ]
  },
  {
   "cell_type": "code",
   "execution_count": 26,
   "metadata": {},
   "outputs": [
    {
     "name": "stdout",
     "output_type": "stream",
     "text": [
      "201\n",
      "753\n",
      "600\n",
      "110\n",
      "0\n"
     ]
    }
   ],
   "source": [
    "# Active (enabled) filters\n",
    "print (len(df.query('af_enabled==1')))\n",
    "\n",
    "# Disabled filters\n",
    "print (len(df.query('af_enabled==0')))\n",
    "\n",
    "# Deleted filters\n",
    "print (len(df.query('af_deleted==1')))\n",
    "\n",
    "# Active public filters\n",
    "print (len(df.query('af_hidden==0 and af_enabled==1')))\n",
    "\n",
    "# Deleted and enabled\n",
    "print (len(df.query('af_deleted==1 and af_enabled==1')))"
   ]
  },
  {
   "cell_type": "code",
   "execution_count": 101,
   "metadata": {},
   "outputs": [
    {
     "name": "stdout",
     "output_type": "stream",
     "text": [
      "593\n",
      "91\n"
     ]
    }
   ],
   "source": [
    "# hidden filters\n",
    "print (len(df.query('af_hidden==1')))\n",
    "\n",
    "# active hidden filters\n",
    "print (len(df.query('af_hidden==1 and af_enabled==1')))"
   ]
  },
  {
   "cell_type": "code",
   "execution_count": 105,
   "metadata": {},
   "outputs": [
    {
     "name": "stdout",
     "output_type": "stream",
     "text": [
      "954\n"
     ]
    }
   ],
   "source": [
    "# global filters\n",
    "print (len(df.query('af_global==0')))"
   ]
  },
  {
   "cell_type": "code",
   "execution_count": 5,
   "metadata": {},
   "outputs": [
    {
     "name": "stdout",
     "output_type": "stream",
     "text": [
      "948\n",
      "6\n"
     ]
    }
   ],
   "source": [
    "# throttled\n",
    "print (len(df.query('af_throttled==0')))\n",
    "\n",
    "print (len(df.query('af_throttled==1')))"
   ]
  },
  {
   "cell_type": "code",
   "execution_count": 9,
   "metadata": {},
   "outputs": [
    {
     "name": "stdout",
     "output_type": "stream",
     "text": [
      "947\n",
      "     Unnamed: 0  af_id  af_hidden  af_global  af_enabled  af_deleted  \\\n",
      "168         168    497          0          0           0           1   \n",
      "173         173    494          0          0           0           1   \n",
      "174         174    502          0          0           0           1   \n",
      "187         187    495          0          0           0           1   \n",
      "190         190    496          0          0           0           1   \n",
      "227         227    475          0          0           0           1   \n",
      "349         349    461          0          0           0           1   \n",
      "\n",
      "     af_throttled  af_group    af_timestamp af_actions  af_hit_count  \\\n",
      "168             0  feedback  20130108151106   disallow          3660   \n",
      "173             0  feedback  20130108151035   disallow          3325   \n",
      "174             0  feedback  20130424011002   disallow          3280   \n",
      "187             0  feedback  20130108151045   disallow          2697   \n",
      "190             0  feedback  20130108151054   disallow          2658   \n",
      "227             0  feedback  20131003210159        NaN          1390   \n",
      "349             0  feedback  20130411173111   disallow           283   \n",
      "\n",
      "                  af_public_comments                          manual_tags  \\\n",
      "168     Feedback: Common Vandalism 5               vandalism, harassment?   \n",
      "173     Feedback: Common Vandalism 2              vandalism?, harassment?   \n",
      "174   Feedback: Extremely long words  vandalism?, good_faith?, bad_style?   \n",
      "187     Feedback: Common Vandalism 3               vandalism, harassment?   \n",
      "190     Feedback: Common Vandalism 4               vandalism, harassment?   \n",
      "227     Feedback: Vandalism or libel                vandalism, harassment   \n",
      "349  Feedback: Vandalism in all caps               vandalism, harassment?   \n",
      "\n",
      "                                        notes  \n",
      "168  deleted; “Merged back into 460. --mlitn”  \n",
      "173  deleted; “Merged back into 460. --mlitn”  \n",
      "174                                   deleted  \n",
      "187  deleted; “Merged back into 460. --mlitn”  \n",
      "190  deleted; “Merged back into 460. --mlitn”  \n",
      "227                                   deleted  \n",
      "349                                       NaN  \n"
     ]
    }
   ],
   "source": [
    "# group\n",
    "print (len(df.query('af_group==\"default\"')))\n",
    "print (df.query('af_group!=\"default\"'))\n",
    "\n",
    "# --> so available groups are \"default\" and \"feedback\""
   ]
  },
  {
   "cell_type": "markdown",
   "metadata": {},
   "source": [
    "## Helper functions"
   ]
  },
  {
   "cell_type": "code",
   "execution_count": 28,
   "metadata": {},
   "outputs": [],
   "source": [
    "flatten = lambda x: list(itertools.chain.from_iterable(x))"
   ]
  },
  {
   "cell_type": "markdown",
   "metadata": {},
   "source": [
    "## Edit filter actions"
   ]
  },
  {
   "cell_type": "code",
   "execution_count": 19,
   "metadata": {},
   "outputs": [
    {
     "name": "stdout",
     "output_type": "stream",
     "text": [
      "[('', 413), ('disallow', 406), ('warn', 122), ('tag', 70), ('throttle', 52), ('blockautopromote', 4)]\n"
     ]
    }
   ],
   "source": [
    "actions = df['af_actions'].fillna('')\n",
    "actions_list = [x.split(\",\") for x in list(actions)]\n",
    "all_actions = flatten(actions_list)\n",
    "\n",
    "print(collections.Counter(all_actions).most_common())"
   ]
  },
  {
   "cell_type": "code",
   "execution_count": 23,
   "metadata": {},
   "outputs": [
    {
     "name": "stdout",
     "output_type": "stream",
     "text": [
      "[('disallow', 51), ('', 19), ('throttle,disallow', 7), ('throttle', 4), ('tag', 3), ('warn,tag', 2), ('throttle,warn', 2), ('warn', 1), ('disallow,tag', 1), ('warn,disallow', 1)]\n"
     ]
    }
   ],
   "source": [
    "# What are the actions of active hidden filters\n",
    "active_hidden = df.query('af_hidden==1 and af_enabled==1')\n",
    "print(collections.Counter(list(active_hidden['af_actions'].fillna(''))).most_common())"
   ]
  },
  {
   "cell_type": "code",
   "execution_count": 24,
   "metadata": {},
   "outputs": [
    {
     "name": "stdout",
     "output_type": "stream",
     "text": [
      "[('tag', 25), ('warn,tag', 25), ('disallow', 22), ('', 20), ('warn', 12), ('throttle,tag', 2), ('warn,disallow', 2), ('throttle,warn,tag', 1), ('throttle,disallow', 1)]\n"
     ]
    }
   ],
   "source": [
    "# What are the actions of active public filters\n",
    "active_public = df.query('af_hidden==0 and af_enabled==1')\n",
    "print(collections.Counter(list(active_public['af_actions'].fillna(''))).most_common())"
   ]
  },
  {
   "cell_type": "markdown",
   "metadata": {},
   "source": [
    "## Explore Manual Tags"
   ]
  },
  {
   "cell_type": "code",
   "execution_count": 39,
   "metadata": {},
   "outputs": [
    {
     "name": "stdout",
     "output_type": "stream",
     "text": [
      "[('vandalism', 263), ('vandalism?', 162), ('unknown', 71), ('good_faith?', 63), ('misc', 59), ('sockpuppetry', 59), ('good_faith', 48), ('test', 43), ('spam?', 41), ('long_term_abuse', 35), ('sockpuppetry?', 35), ('harassment?', 31), ('harassment', 24), ('abuse?', 21), ('biased_pov', 17), ('spam', 17), ('biased_pov?', 15), ('unclear', 14), ('bad_style', 13), ('bad_style?', 12), ('bug?', 10), ('wiki_policy?', 9), ('long_term_abuse?', 9), ('misc?', 8), ('seo', 8), ('politically_motivated?', 8), ('maintenance', 7), ('trolling?', 7), ('maintenance?', 6), ('personal_attacks', 6), ('bug', 5), ('vandalbot', 5), ('page_move_vandalism', 5), ('silly_vandalism', 5), ('lazyness', 4), ('seo?', 4), ('test?', 4), ('hoaxing?', 4), ('personal_attacks?', 4), ('edit_warring?', 3), ('copyright', 3), ('image_vandalism', 3), ('talk_page_vandalism', 3), ('page_move_vandalism?', 3), ('conflict_of_interest', 3), ('stockbrocker_vandalism', 3), ('copyright?', 2), ('vandalbot?', 2), ('religious_vandalism?', 2), ('politically_motivated', 2), ('self_promotion?', 2), ('template_spam', 2), ('hoaxing', 2), ('silly_vandalism?', 2), ('doxxing?', 2), ('not_polite', 1), ('template_vandalism', 1), ('religious_vandalism', 1), ('self_promotion', 1), ('abuse', 1), ('template_vandalism?', 1), ('link_vandalism?', 1), ('abuse_of_tags_vandalism?', 1), ('avoidant_vandalism', 1), ('guideline_vio?', 1), ('username_vandalism?', 1), ('phishing?', 1), ('avoidant_vandalism?', 1), ('malware?', 1), ('malware', 1), ('conflict_of_interest?', 1), ('impersonation', 1), ('prank', 1)]\n"
     ]
    }
   ],
   "source": [
    "manual_tags = df['manual_tags']\n",
    "manual_tags_list = [x.split(\", \") for x in list(manual_tags)]\n",
    "all_tags = flatten(manual_tags_list)\n",
    "\n",
    "print(collections.Counter(all_tags).most_common())"
   ]
  },
  {
   "cell_type": "markdown",
   "metadata": {},
   "source": [
    "('vandalism', 263),\n",
    "('vandalism?', 162),\n",
    "  ('spam?', 41),\n",
    "  ('spam', 17),\n",
    "  ('vandalbot', 5),\n",
    "  ('vandalbot?', 2),\n",
    "  ('page_move_vandalism', 5),\n",
    "  ('page_move_vandalism?', 3),\n",
    "  ('silly_vandalism', 5),\n",
    "  ('silly_vandalism?', 2),\n",
    "  ('trolling?', 7),\n",
    "  ('hoaxing?', 4),\n",
    "  ('hoaxing', 2),\n",
    "  ('copyright', 3),\n",
    "  ('copyright?', 2),\n",
    "  ('image_vandalism', 3),\n",
    "  ('talk_page_vandalism', 3),\n",
    "  ('template_vandalism?', 1),\n",
    "  ('template_vandalism', 1),\n",
    "  ('template_spam', 2),\n",
    "  ('link_vandalism?', 1),\n",
    "  ('abuse_of_tags_vandalism?', 1),\n",
    "  ('avoidant_vandalism', 1),\n",
    "  ('avoidant_vandalism?', 1),\n",
    "  ('username_vandalism?', 1),\n",
    "\n",
    "('prank', 1)\n",
    "\n",
    "('phishing?', 1),\n",
    "('malware?', 1),\n",
    "('malware', 1),\n",
    "\n",
    "('guideline_vio?', 1),\n",
    "\n",
    "('religious_vandalism?', 3),\n",
    "('politically_motivated?', 8),\n",
    "('politically_motivated', 2),\n",
    "\n",
    "('sockpuppetry', 59),\n",
    "('sockpuppetry?', 35),\n",
    "('long_term_abuse', 35),\n",
    "('long_term_abuse?', 9),\n",
    "('abuse', 1),\n",
    "('abuse?', 21),\n",
    "('harassment?', 31),\n",
    "('harassment', 24),\n",
    "('doxxing?', 2),\n",
    "('personal_attacks', 6),\n",
    "('personal_attacks?', 4),\n",
    "('impersonation', 1),\n",
    "('not_polite', 1),\n",
    "\n",
    "('biased_pov', 17),\n",
    "('biased_pov?', 15),\n",
    "\n",
    "('conflict_of_interest', 3),\n",
    "('stockbrocker_vandalism', 3),\n",
    "('self_promotion?', 2),\n",
    "('conflict_of_interest?', 1),\n",
    "('self_promotion', 1),\n",
    "\n",
    "('seo', 8),\n",
    "('seo?', 4),\n",
    "\n",
    "('bad_style', 13),\n",
    "('bad_style?', 12),\n",
    "('edit_warring?', 3),\n",
    "\n",
    "('good_faith?', 63),\n",
    "('good_faith', 48),\n",
    "\n",
    "('lazyness', 4),\n",
    "\n",
    "('maintenance', 7),\n",
    "('maintenance?', 5),\n",
    "('maintenance? ', 1),\n",
    "\n",
    "('bug', 5),\n",
    "('bug?', 10),\n",
    "('wiki_policy?', 9),\n",
    "\n",
    "('test', 43),\n",
    "('test?', 4),\n",
    "\n",
    "('unknown', 71),\n",
    "('misc', 59),\n",
    "('misc?', 8),\n",
    "('unclear', 14),"
   ]
  },
  {
   "cell_type": "markdown",
   "metadata": {},
   "source": [
    "## Hit count"
   ]
  },
  {
   "cell_type": "code",
   "execution_count": 69,
   "metadata": {},
   "outputs": [
    {
     "data": {
      "text/plain": [
       "count    9.540000e+02\n",
       "mean     2.401892e+04\n",
       "std      1.205649e+05\n",
       "min      0.000000e+00\n",
       "25%      7.000000e+00\n",
       "50%      9.050000e+01\n",
       "75%      1.185250e+03\n",
       "max      1.611956e+06\n",
       "Name: af_hit_count, dtype: float64"
      ]
     },
     "execution_count": 69,
     "metadata": {},
     "output_type": "execute_result"
    }
   ],
   "source": [
    " df['af_hit_count'].describe()"
   ]
  },
  {
   "cell_type": "markdown",
   "metadata": {},
   "source": [
    "## Edit filter editors"
   ]
  },
  {
   "cell_type": "code",
   "execution_count": 89,
   "metadata": {},
   "outputs": [
    {
     "name": "stdout",
     "output_type": "stream",
     "text": [
      "['Zzuuzz' 'Dragons flight' 'This, that and the other' 'MusikAnimal' 'Crow'\n",
      " 'Samtar' 'Xaosflux' 'King of Hearts' 'Amorymeltzer' 'Samwalton9'\n",
      " 'Biblioworm' 'NawlinWiki' 'MER-C' 'Rich Farmbrough' 'Galobtter'\n",
      " 'Cenarium' 'Ruslik0' 'Legoktm' 'Od Mishehu' 'BU Rob13' 'Prodego'\n",
      " 'Timotheus Canens' 'Oshwah' 'The Earwig' 'The Anome' 'Kww' 'Beetstra'\n",
      " 'Reaper Eternal' 'BethNaught' 'Mlitn' 'Cyp' \"There'sNoTime\" 'Kuru'\n",
      " 'Shirik' 'Xeno' 'Kaldari' 'Kingpin13' 'DoRD' 'Elockid' 'Ritchie333'\n",
      " 'Maxim' 'Ryan Kaldari (WMF)' 'Cyberpower678' 'GB fan' 'Jackmcbarn' 'L235'\n",
      " 'Smalljim' 'Materialscientist' 'Someguy1221' 'Billinghurst' 'Tedder'\n",
      " 'Gogo Dodo' 'Triplestop' 'Darkwind' 'Amalthea' 'Slakr' 'Scottywong'\n",
      " 'Mr.Z-man' 'SQL' 'Avraham' 'NuclearWarfare' 'OverlordQ' 'Nihiltres'\n",
      " 'Hersfold' 'Mifter' 'Chris G' 'EdoDodo' 'Nakon' 'Werdna' 'Wknight94'\n",
      " 'DMacks' 'East718' 'Georgewilliamherbert' 'Mindmatrix' 'Rschen7754'\n",
      " 'Lustiger seth' \"Chris G's Test Account\"]\n",
      "77\n",
      "MusikAnimal                 249\n",
      "King of Hearts               91\n",
      "Zzuuzz                       81\n",
      "Rich Farmbrough              61\n",
      "Ruslik0                      59\n",
      "Prodego                      45\n",
      "Samwalton9                   34\n",
      "Cenarium                     32\n",
      "NawlinWiki                   28\n",
      "Xaosflux                     27\n",
      "Reaper Eternal               25\n",
      "Shirik                       23\n",
      "Beetstra                     16\n",
      "Dragons flight               15\n",
      "Crow                         13\n",
      "Legoktm                      11\n",
      "Samtar                        9\n",
      "The Anome                     9\n",
      "Cyp                           7\n",
      "BethNaught                    6\n",
      "Ryan Kaldari (WMF)            5\n",
      "BU Rob13                      5\n",
      "Oshwah                        5\n",
      "Kww                           5\n",
      "Od Mishehu                    5\n",
      "There'sNoTime                 5\n",
      "Elockid                       4\n",
      "Kuru                          4\n",
      "Materialscientist             4\n",
      "Mlitn                         4\n",
      "                           ... \n",
      "This, that and the other      1\n",
      "Nihiltres                     1\n",
      "Ritchie333                    1\n",
      "East718                       1\n",
      "Lustiger seth                 1\n",
      "Chris G                       1\n",
      "Tedder                        1\n",
      "Amalthea                      1\n",
      "Mindmatrix                    1\n",
      "DoRD                          1\n",
      "Avraham                       1\n",
      "Georgewilliamherbert          1\n",
      "EdoDodo                       1\n",
      "Darkwind                      1\n",
      "Rschen7754                    1\n",
      "Jackmcbarn                    1\n",
      "Nakon                         1\n",
      "Slakr                         1\n",
      "Smalljim                      1\n",
      "Chris G's Test Account        1\n",
      "Scottywong                    1\n",
      "Timotheus Canens              1\n",
      "Mifter                        1\n",
      "L235                          1\n",
      "Triplestop                    1\n",
      "Hersfold                      1\n",
      "Billinghurst                  1\n",
      "SQL                           1\n",
      "DMacks                        1\n",
      "Xeno                          1\n",
      "Name: af_user_text, Length: 77, dtype: int64\n"
     ]
    }
   ],
   "source": [
    "raw_df = pd.read_csv(\"quarry-32518-all-filters-sorted-num-hits.csv\", sep=',')\n",
    "editors = raw_df['af_user_text']\n",
    "print (editors.unique())\n",
    "print (len(editors.unique()))\n",
    "print (raw_df['af_user_text'].value_counts())"
   ]
  },
  {
   "cell_type": "markdown",
   "metadata": {},
   "source": [
    "## Code snippets that may come in handy"
   ]
  },
  {
   "cell_type": "code",
   "execution_count": 36,
   "metadata": {},
   "outputs": [
    {
     "name": "stdout",
     "output_type": "stream",
     "text": [
      "0               good_faith\n",
      "1                vandalism\n",
      "2                vandalism\n",
      "3                vandalism\n",
      "4               good_faith\n",
      "5               good_faith\n",
      "6     good_faith, lazyness\n",
      "7    vandalism, good_faith\n",
      "8               good_faith\n",
      "9               good_faith\n",
      "Name: manual_tags, dtype: object\n"
     ]
    },
    {
     "data": {
      "text/html": [
       "<div>\n",
       "<style scoped>\n",
       "    .dataframe tbody tr th:only-of-type {\n",
       "        vertical-align: middle;\n",
       "    }\n",
       "\n",
       "    .dataframe tbody tr th {\n",
       "        vertical-align: top;\n",
       "    }\n",
       "\n",
       "    .dataframe thead th {\n",
       "        text-align: right;\n",
       "    }\n",
       "</style>\n",
       "<table border=\"1\" class=\"dataframe\">\n",
       "  <thead>\n",
       "    <tr style=\"text-align: right;\">\n",
       "      <th></th>\n",
       "      <th>tag_0</th>\n",
       "      <th>tag_1</th>\n",
       "    </tr>\n",
       "  </thead>\n",
       "  <tbody>\n",
       "    <tr>\n",
       "      <th>0</th>\n",
       "      <td>good_faith</td>\n",
       "      <td>None</td>\n",
       "    </tr>\n",
       "    <tr>\n",
       "      <th>1</th>\n",
       "      <td>vandalism</td>\n",
       "      <td>None</td>\n",
       "    </tr>\n",
       "    <tr>\n",
       "      <th>2</th>\n",
       "      <td>vandalism</td>\n",
       "      <td>None</td>\n",
       "    </tr>\n",
       "    <tr>\n",
       "      <th>3</th>\n",
       "      <td>vandalism</td>\n",
       "      <td>None</td>\n",
       "    </tr>\n",
       "    <tr>\n",
       "      <th>4</th>\n",
       "      <td>good_faith</td>\n",
       "      <td>None</td>\n",
       "    </tr>\n",
       "    <tr>\n",
       "      <th>5</th>\n",
       "      <td>good_faith</td>\n",
       "      <td>None</td>\n",
       "    </tr>\n",
       "    <tr>\n",
       "      <th>6</th>\n",
       "      <td>good_faith</td>\n",
       "      <td>lazyness</td>\n",
       "    </tr>\n",
       "    <tr>\n",
       "      <th>7</th>\n",
       "      <td>vandalism</td>\n",
       "      <td>good_faith</td>\n",
       "    </tr>\n",
       "    <tr>\n",
       "      <th>8</th>\n",
       "      <td>good_faith</td>\n",
       "      <td>None</td>\n",
       "    </tr>\n",
       "    <tr>\n",
       "      <th>9</th>\n",
       "      <td>good_faith</td>\n",
       "      <td>None</td>\n",
       "    </tr>\n",
       "  </tbody>\n",
       "</table>\n",
       "</div>"
      ],
      "text/plain": [
       "        tag_0       tag_1\n",
       "0  good_faith        None\n",
       "1   vandalism        None\n",
       "2   vandalism        None\n",
       "3   vandalism        None\n",
       "4  good_faith        None\n",
       "5  good_faith        None\n",
       "6  good_faith    lazyness\n",
       "7   vandalism  good_faith\n",
       "8  good_faith        None\n",
       "9  good_faith        None"
      ]
     },
     "execution_count": 36,
     "metadata": {},
     "output_type": "execute_result"
    }
   ],
   "source": [
    "# make a data frame out of list\n",
    "ten_tags = manual_tags.head(10).str.split(\", \", n = 1, expand = True).apply(pd.Series)\n",
    "ten_tags = ten_tags.rename(columns = lambda x : 'tag_' + str(x))\n",
    "ten_tags"
   ]
  },
  {
   "cell_type": "code",
   "execution_count": 88,
   "metadata": {},
   "outputs": [
    {
     "data": {
      "text/plain": [
       "MusikAnimal                 249\n",
       "King of Hearts               91\n",
       "Zzuuzz                       81\n",
       "Rich Farmbrough              61\n",
       "Ruslik0                      59\n",
       "Prodego                      45\n",
       "Samwalton9                   34\n",
       "Cenarium                     32\n",
       "NawlinWiki                   28\n",
       "Xaosflux                     27\n",
       "Reaper Eternal               25\n",
       "Shirik                       23\n",
       "Beetstra                     16\n",
       "Dragons flight               15\n",
       "Crow                         13\n",
       "Legoktm                      11\n",
       "Samtar                        9\n",
       "The Anome                     9\n",
       "Cyp                           7\n",
       "BethNaught                    6\n",
       "Ryan Kaldari (WMF)            5\n",
       "BU Rob13                      5\n",
       "Oshwah                        5\n",
       "Kww                           5\n",
       "Od Mishehu                    5\n",
       "There'sNoTime                 5\n",
       "Elockid                       4\n",
       "Kuru                          4\n",
       "Materialscientist             4\n",
       "Mlitn                         4\n",
       "                           ... \n",
       "This, that and the other      1\n",
       "Nihiltres                     1\n",
       "Ritchie333                    1\n",
       "East718                       1\n",
       "Lustiger seth                 1\n",
       "Chris G                       1\n",
       "Tedder                        1\n",
       "Amalthea                      1\n",
       "Mindmatrix                    1\n",
       "DoRD                          1\n",
       "Avraham                       1\n",
       "Georgewilliamherbert          1\n",
       "EdoDodo                       1\n",
       "Darkwind                      1\n",
       "Rschen7754                    1\n",
       "Jackmcbarn                    1\n",
       "Nakon                         1\n",
       "Slakr                         1\n",
       "Smalljim                      1\n",
       "Chris G's Test Account        1\n",
       "Scottywong                    1\n",
       "Timotheus Canens              1\n",
       "Mifter                        1\n",
       "L235                          1\n",
       "Triplestop                    1\n",
       "Hersfold                      1\n",
       "Billinghurst                  1\n",
       "SQL                           1\n",
       "DMacks                        1\n",
       "Xeno                          1\n",
       "Name: af_user_text, Length: 77, dtype: int64"
      ]
     },
     "execution_count": 88,
     "metadata": {},
     "output_type": "execute_result"
    }
   ],
   "source": [
    "raw_df.groupby('af_user_text').count()"
   ]
  }
 ],
 "metadata": {
  "kernelspec": {
   "display_name": "Python 3",
   "language": "python",
   "name": "python3"
  },
  "language_info": {
   "codemirror_mode": {
    "name": "ipython",
    "version": 3
   },
   "file_extension": ".py",
   "mimetype": "text/x-python",
   "name": "python",
   "nbconvert_exporter": "python",
   "pygments_lexer": "ipython3",
   "version": "3.6.7"
  }
 },
 "nbformat": 4,
 "nbformat_minor": 1
}
